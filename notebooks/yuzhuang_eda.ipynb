{
 "cells": [
  {
   "cell_type": "markdown",
   "id": "abe8d44a",
   "metadata": {},
   "source": [
    "### Bivariate Analysis\n",
    "\n",
    "Question: What was the relationship between Funding received and Funding requirements across by year?"
   ]
  },
  {
   "cell_type": "markdown",
   "id": "4b0c0ce9",
   "metadata": {},
   "source": [
    "Import Dependency"
   ]
  },
  {
   "cell_type": "code",
   "execution_count": 42,
   "id": "3a4b9c5e",
   "metadata": {},
   "outputs": [],
   "source": [
    "import pandas as pd\n",
    "import seaborn as sns\n",
    "import numpy as np\n",
    "import matplotlib.pyplot as plt"
   ]
  },
  {
   "cell_type": "code",
   "execution_count": 43,
   "id": "17e054bc",
   "metadata": {},
   "outputs": [],
   "source": [
    "df = pd.read_csv(\"../data/2010-2024 Humanitarian Needs and Funding - Raw Data.csv\")"
   ]
  },
  {
   "cell_type": "code",
   "execution_count": 44,
   "id": "12aec23b",
   "metadata": {},
   "outputs": [
    {
     "data": {
      "text/html": [
       "<div>\n",
       "<style scoped>\n",
       "    .dataframe tbody tr th:only-of-type {\n",
       "        vertical-align: middle;\n",
       "    }\n",
       "\n",
       "    .dataframe tbody tr th {\n",
       "        vertical-align: top;\n",
       "    }\n",
       "\n",
       "    .dataframe thead th {\n",
       "        text-align: right;\n",
       "    }\n",
       "</style>\n",
       "<table border=\"1\" class=\"dataframe\">\n",
       "  <thead>\n",
       "    <tr style=\"text-align: right;\">\n",
       "      <th></th>\n",
       "      <th>Year</th>\n",
       "      <th>Plan</th>\n",
       "      <th>Crisis Country</th>\n",
       "      <th>Country Code</th>\n",
       "      <th>Metric</th>\n",
       "      <th>Value</th>\n",
       "      <th>Standardised Plan</th>\n",
       "      <th>Appeal Type</th>\n",
       "      <th>PiN Value for Dataviz</th>\n",
       "      <th>OUSG Metric</th>\n",
       "    </tr>\n",
       "  </thead>\n",
       "  <tbody>\n",
       "    <tr>\n",
       "      <th>0</th>\n",
       "      <td>2010</td>\n",
       "      <td>Afghanistan</td>\n",
       "      <td>Afghanistan</td>\n",
       "      <td>AFG</td>\n",
       "      <td>People targeted</td>\n",
       "      <td>7,800,000</td>\n",
       "      <td>Afghanistan</td>\n",
       "      <td>Consolidated Appeal Process (CAP)</td>\n",
       "      <td>NaN</td>\n",
       "      <td>People in need</td>\n",
       "    </tr>\n",
       "    <tr>\n",
       "      <th>1</th>\n",
       "      <td>2010</td>\n",
       "      <td>Afghanistan</td>\n",
       "      <td>Afghanistan</td>\n",
       "      <td>AFG</td>\n",
       "      <td>Funding received</td>\n",
       "      <td>223,824,925</td>\n",
       "      <td>Afghanistan</td>\n",
       "      <td>Consolidated Appeal Process (CAP)</td>\n",
       "      <td>NaN</td>\n",
       "      <td>Funding received</td>\n",
       "    </tr>\n",
       "    <tr>\n",
       "      <th>2</th>\n",
       "      <td>2010</td>\n",
       "      <td>Afghanistan</td>\n",
       "      <td>Afghanistan</td>\n",
       "      <td>AFG</td>\n",
       "      <td>Funding requirements</td>\n",
       "      <td>448,551,322</td>\n",
       "      <td>Afghanistan</td>\n",
       "      <td>Consolidated Appeal Process (CAP)</td>\n",
       "      <td>NaN</td>\n",
       "      <td>Funding requirements</td>\n",
       "    </tr>\n",
       "    <tr>\n",
       "      <th>3</th>\n",
       "      <td>2010</td>\n",
       "      <td>Afghanistan</td>\n",
       "      <td>Afghanistan</td>\n",
       "      <td>AFG</td>\n",
       "      <td>People targeted</td>\n",
       "      <td>5,400,000</td>\n",
       "      <td>Afghanistan</td>\n",
       "      <td>Consolidated Appeal Process (CAP)</td>\n",
       "      <td>NaN</td>\n",
       "      <td>People in need</td>\n",
       "    </tr>\n",
       "    <tr>\n",
       "      <th>4</th>\n",
       "      <td>2010</td>\n",
       "      <td>Afghanistan</td>\n",
       "      <td>Afghanistan</td>\n",
       "      <td>AFG</td>\n",
       "      <td>Funding received</td>\n",
       "      <td>345,246,607</td>\n",
       "      <td>Afghanistan</td>\n",
       "      <td>Consolidated Appeal Process (CAP)</td>\n",
       "      <td>NaN</td>\n",
       "      <td>NaN</td>\n",
       "    </tr>\n",
       "  </tbody>\n",
       "</table>\n",
       "</div>"
      ],
      "text/plain": [
       "   Year         Plan Crisis Country Country Code                Metric  \\\n",
       "0  2010  Afghanistan    Afghanistan          AFG       People targeted   \n",
       "1  2010  Afghanistan    Afghanistan          AFG      Funding received   \n",
       "2  2010  Afghanistan    Afghanistan          AFG  Funding requirements   \n",
       "3  2010  Afghanistan    Afghanistan          AFG       People targeted   \n",
       "4  2010  Afghanistan    Afghanistan          AFG      Funding received   \n",
       "\n",
       "         Value Standardised Plan                        Appeal Type  \\\n",
       "0    7,800,000       Afghanistan  Consolidated Appeal Process (CAP)   \n",
       "1  223,824,925       Afghanistan  Consolidated Appeal Process (CAP)   \n",
       "2  448,551,322       Afghanistan  Consolidated Appeal Process (CAP)   \n",
       "3    5,400,000       Afghanistan  Consolidated Appeal Process (CAP)   \n",
       "4  345,246,607       Afghanistan  Consolidated Appeal Process (CAP)   \n",
       "\n",
       "  PiN Value for Dataviz           OUSG Metric  \n",
       "0                   NaN        People in need  \n",
       "1                   NaN      Funding received  \n",
       "2                   NaN  Funding requirements  \n",
       "3                   NaN        People in need  \n",
       "4                   NaN                   NaN  "
      ]
     },
     "execution_count": 44,
     "metadata": {},
     "output_type": "execute_result"
    }
   ],
   "source": [
    "df.head()"
   ]
  },
  {
   "cell_type": "markdown",
   "id": "af8429ba",
   "metadata": {},
   "source": [
    "Covert \"Value\" column from string to numeric data, to ensure \"Value\" column only contains numeric data."
   ]
  },
  {
   "cell_type": "code",
   "execution_count": 45,
   "id": "92af20b0",
   "metadata": {},
   "outputs": [],
   "source": [
    "df['Value'] = df['Value'].replace(',', '', regex=True)\n",
    "df['Value'] = pd.to_numeric(df['Value'], errors='coerce')"
   ]
  },
  {
   "cell_type": "markdown",
   "id": "505d3d97",
   "metadata": {},
   "source": [
    "Filter Metric in Funding received and Funding requirements Since we only interest both Funding received and Funding requirements Metric."
   ]
  },
  {
   "cell_type": "code",
   "execution_count": 46,
   "id": "eadef980",
   "metadata": {},
   "outputs": [],
   "source": [
    "df_filtered = df[df['Metric'].isin(['Funding received', 'Funding requirements'])]"
   ]
  },
  {
   "cell_type": "markdown",
   "id": "ffa20ecd",
   "metadata": {},
   "source": [
    "Group and sum up the value of Funding received and Funding requirements value by years"
   ]
  },
  {
   "cell_type": "code",
   "execution_count": 47,
   "id": "7556a6a8",
   "metadata": {},
   "outputs": [],
   "source": [
    "yearly_funding = df_filtered.groupby(['Year', 'Metric'])['Value'].sum().reset_index()\n",
    "pd.set_option('display.float_format', '{:,.0f}'.format)"
   ]
  },
  {
   "cell_type": "markdown",
   "id": "cf0dc4d5",
   "metadata": {},
   "source": [
    "Structure a new data farm object with columns 'year', 'Funding received', and 'Funding requirements'"
   ]
  },
  {
   "cell_type": "code",
   "execution_count": 48,
   "id": "2c5a2d20",
   "metadata": {},
   "outputs": [
    {
     "data": {
      "text/html": [
       "<div>\n",
       "<style scoped>\n",
       "    .dataframe tbody tr th:only-of-type {\n",
       "        vertical-align: middle;\n",
       "    }\n",
       "\n",
       "    .dataframe tbody tr th {\n",
       "        vertical-align: top;\n",
       "    }\n",
       "\n",
       "    .dataframe thead th {\n",
       "        text-align: right;\n",
       "    }\n",
       "</style>\n",
       "<table border=\"1\" class=\"dataframe\">\n",
       "  <thead>\n",
       "    <tr style=\"text-align: right;\">\n",
       "      <th></th>\n",
       "      <th>Year</th>\n",
       "      <th>Funding received</th>\n",
       "      <th>Funding requirements</th>\n",
       "    </tr>\n",
       "  </thead>\n",
       "  <tbody>\n",
       "    <tr>\n",
       "      <th>0</th>\n",
       "      <td>2010</td>\n",
       "      <td>5,085,448,219</td>\n",
       "      <td>9607304247</td>\n",
       "    </tr>\n",
       "    <tr>\n",
       "      <th>1</th>\n",
       "      <td>2011</td>\n",
       "      <td>1,443,996,575</td>\n",
       "      <td>4893040499</td>\n",
       "    </tr>\n",
       "    <tr>\n",
       "      <th>2</th>\n",
       "      <td>2012</td>\n",
       "      <td>4,424,167,634</td>\n",
       "      <td>11263027389</td>\n",
       "    </tr>\n",
       "    <tr>\n",
       "      <th>3</th>\n",
       "      <td>2013</td>\n",
       "      <td>4,712,463,654</td>\n",
       "      <td>10348530114</td>\n",
       "    </tr>\n",
       "    <tr>\n",
       "      <th>4</th>\n",
       "      <td>2014</td>\n",
       "      <td>3,878,980,348</td>\n",
       "      <td>9923708780</td>\n",
       "    </tr>\n",
       "    <tr>\n",
       "      <th>5</th>\n",
       "      <td>2015</td>\n",
       "      <td>8,550,240,023</td>\n",
       "      <td>14584807503</td>\n",
       "    </tr>\n",
       "    <tr>\n",
       "      <th>6</th>\n",
       "      <td>2016</td>\n",
       "      <td>5,678,913,327</td>\n",
       "      <td>10327887945</td>\n",
       "    </tr>\n",
       "    <tr>\n",
       "      <th>7</th>\n",
       "      <td>2017</td>\n",
       "      <td>9,111,000,599</td>\n",
       "      <td>19980547400</td>\n",
       "    </tr>\n",
       "    <tr>\n",
       "      <th>8</th>\n",
       "      <td>2018</td>\n",
       "      <td>21,922,679,445</td>\n",
       "      <td>44655342517</td>\n",
       "    </tr>\n",
       "    <tr>\n",
       "      <th>9</th>\n",
       "      <td>2019</td>\n",
       "      <td>25,355,421,122</td>\n",
       "      <td>57310206372</td>\n",
       "    </tr>\n",
       "    <tr>\n",
       "      <th>10</th>\n",
       "      <td>2020</td>\n",
       "      <td>11,100,838,755</td>\n",
       "      <td>19307915600</td>\n",
       "    </tr>\n",
       "    <tr>\n",
       "      <th>11</th>\n",
       "      <td>2021</td>\n",
       "      <td>3,722,500,000</td>\n",
       "      <td>29486165470</td>\n",
       "    </tr>\n",
       "    <tr>\n",
       "      <th>12</th>\n",
       "      <td>2022</td>\n",
       "      <td>NaN</td>\n",
       "      <td>52000597947</td>\n",
       "    </tr>\n",
       "    <tr>\n",
       "      <th>13</th>\n",
       "      <td>2023</td>\n",
       "      <td>NaN</td>\n",
       "      <td>56090231506</td>\n",
       "    </tr>\n",
       "    <tr>\n",
       "      <th>14</th>\n",
       "      <td>2024</td>\n",
       "      <td>NaN</td>\n",
       "      <td>46104045635</td>\n",
       "    </tr>\n",
       "  </tbody>\n",
       "</table>\n",
       "</div>"
      ],
      "text/plain": [
       "    Year  Funding received  Funding requirements\n",
       "0   2010     5,085,448,219            9607304247\n",
       "1   2011     1,443,996,575            4893040499\n",
       "2   2012     4,424,167,634           11263027389\n",
       "3   2013     4,712,463,654           10348530114\n",
       "4   2014     3,878,980,348            9923708780\n",
       "5   2015     8,550,240,023           14584807503\n",
       "6   2016     5,678,913,327           10327887945\n",
       "7   2017     9,111,000,599           19980547400\n",
       "8   2018    21,922,679,445           44655342517\n",
       "9   2019    25,355,421,122           57310206372\n",
       "10  2020    11,100,838,755           19307915600\n",
       "11  2021     3,722,500,000           29486165470\n",
       "12  2022               NaN           52000597947\n",
       "13  2023               NaN           56090231506\n",
       "14  2024               NaN           46104045635"
      ]
     },
     "execution_count": 48,
     "metadata": {},
     "output_type": "execute_result"
    }
   ],
   "source": [
    "yearly_received = yearly_funding[yearly_funding['Metric'] == 'Funding received'].rename(columns={'Value': 'Funding received'})\n",
    "yearly_requirements = yearly_funding[yearly_funding['Metric'] == 'Funding requirements'].rename(columns={'Value': 'Funding requirements'})\n",
    "\n",
    "yearly_merge = pd.merge(yearly_received, yearly_requirements, how='outer', on=['Year'])\n",
    "yearly_merge.drop(columns=['Metric_x', 'Metric_y'], inplace=True)\n",
    "\n",
    "yearly_merge"
   ]
  },
  {
   "cell_type": "markdown",
   "id": "ae9ed1b1",
   "metadata": {},
   "source": [
    "Drop off the NaN data from Funding received.\n",
    "\n",
    "Reason: I think the NaN values are caused by missing data for the received funding. There should be a data anomaly; otherwise, it's very unlikely that the received funding is actually zero."
   ]
  },
  {
   "cell_type": "code",
   "execution_count": 49,
   "id": "b506f18d",
   "metadata": {},
   "outputs": [
    {
     "data": {
      "text/html": [
       "<div>\n",
       "<style scoped>\n",
       "    .dataframe tbody tr th:only-of-type {\n",
       "        vertical-align: middle;\n",
       "    }\n",
       "\n",
       "    .dataframe tbody tr th {\n",
       "        vertical-align: top;\n",
       "    }\n",
       "\n",
       "    .dataframe thead th {\n",
       "        text-align: right;\n",
       "    }\n",
       "</style>\n",
       "<table border=\"1\" class=\"dataframe\">\n",
       "  <thead>\n",
       "    <tr style=\"text-align: right;\">\n",
       "      <th></th>\n",
       "      <th>Year</th>\n",
       "      <th>Funding received</th>\n",
       "      <th>Funding requirements</th>\n",
       "    </tr>\n",
       "  </thead>\n",
       "  <tbody>\n",
       "    <tr>\n",
       "      <th>0</th>\n",
       "      <td>2010</td>\n",
       "      <td>5,085,448,219</td>\n",
       "      <td>9607304247</td>\n",
       "    </tr>\n",
       "    <tr>\n",
       "      <th>1</th>\n",
       "      <td>2011</td>\n",
       "      <td>1,443,996,575</td>\n",
       "      <td>4893040499</td>\n",
       "    </tr>\n",
       "    <tr>\n",
       "      <th>2</th>\n",
       "      <td>2012</td>\n",
       "      <td>4,424,167,634</td>\n",
       "      <td>11263027389</td>\n",
       "    </tr>\n",
       "    <tr>\n",
       "      <th>3</th>\n",
       "      <td>2013</td>\n",
       "      <td>4,712,463,654</td>\n",
       "      <td>10348530114</td>\n",
       "    </tr>\n",
       "    <tr>\n",
       "      <th>4</th>\n",
       "      <td>2014</td>\n",
       "      <td>3,878,980,348</td>\n",
       "      <td>9923708780</td>\n",
       "    </tr>\n",
       "    <tr>\n",
       "      <th>5</th>\n",
       "      <td>2015</td>\n",
       "      <td>8,550,240,023</td>\n",
       "      <td>14584807503</td>\n",
       "    </tr>\n",
       "    <tr>\n",
       "      <th>6</th>\n",
       "      <td>2016</td>\n",
       "      <td>5,678,913,327</td>\n",
       "      <td>10327887945</td>\n",
       "    </tr>\n",
       "    <tr>\n",
       "      <th>7</th>\n",
       "      <td>2017</td>\n",
       "      <td>9,111,000,599</td>\n",
       "      <td>19980547400</td>\n",
       "    </tr>\n",
       "    <tr>\n",
       "      <th>8</th>\n",
       "      <td>2018</td>\n",
       "      <td>21,922,679,445</td>\n",
       "      <td>44655342517</td>\n",
       "    </tr>\n",
       "    <tr>\n",
       "      <th>9</th>\n",
       "      <td>2019</td>\n",
       "      <td>25,355,421,122</td>\n",
       "      <td>57310206372</td>\n",
       "    </tr>\n",
       "    <tr>\n",
       "      <th>10</th>\n",
       "      <td>2020</td>\n",
       "      <td>11,100,838,755</td>\n",
       "      <td>19307915600</td>\n",
       "    </tr>\n",
       "    <tr>\n",
       "      <th>11</th>\n",
       "      <td>2021</td>\n",
       "      <td>3,722,500,000</td>\n",
       "      <td>29486165470</td>\n",
       "    </tr>\n",
       "  </tbody>\n",
       "</table>\n",
       "</div>"
      ],
      "text/plain": [
       "    Year  Funding received  Funding requirements\n",
       "0   2010     5,085,448,219            9607304247\n",
       "1   2011     1,443,996,575            4893040499\n",
       "2   2012     4,424,167,634           11263027389\n",
       "3   2013     4,712,463,654           10348530114\n",
       "4   2014     3,878,980,348            9923708780\n",
       "5   2015     8,550,240,023           14584807503\n",
       "6   2016     5,678,913,327           10327887945\n",
       "7   2017     9,111,000,599           19980547400\n",
       "8   2018    21,922,679,445           44655342517\n",
       "9   2019    25,355,421,122           57310206372\n",
       "10  2020    11,100,838,755           19307915600\n",
       "11  2021     3,722,500,000           29486165470"
      ]
     },
     "execution_count": 49,
     "metadata": {},
     "output_type": "execute_result"
    }
   ],
   "source": [
    "yearly_merge = yearly_merge.dropna(subset=['Funding received'])\n",
    "yearly_merge"
   ]
  },
  {
   "cell_type": "markdown",
   "id": "962d358e",
   "metadata": {},
   "source": [
    "Generate scatter plot between Funding received and Funding requirements"
   ]
  },
  {
   "cell_type": "code",
   "execution_count": 50,
   "id": "5b151c82",
   "metadata": {},
   "outputs": [
    {
     "data": {
      "image/png": "[encoded data removed]",
      "text/plain": [
       "<Figure size 640x480 with 1 Axes>"
      ]
     },
     "metadata": {},
     "output_type": "display_data"
    }
   ],
   "source": [
    "sns.scatterplot(data = yearly_merge, x = yearly_merge['Funding received'], y = yearly_merge['Funding requirements'])\n",
    "plt.xlabel('Funding received')\n",
    "plt.ylabel('Funding requirements')\n",
    "plt.title('Funding received & Funding requirements across by years')\n",
    "plt.grid(True)\n",
    "plt.tight_layout()\n",
    "plt.show()"
   ]
  },
  {
   "cell_type": "markdown",
   "id": "a851ec3f",
   "metadata": {},
   "source": [
    "Find the correlation coefficient between Funding received and Funding requirements"
   ]
  },
  {
   "cell_type": "code",
   "execution_count": 51,
   "id": "087eb3e5",
   "metadata": {},
   "outputs": [
    {
     "name": "stdout",
     "output_type": "stream",
     "text": [
      "The correlation coefficient: 0.911077741301193\n"
     ]
    }
   ],
   "source": [
    "print(\n",
    "    'The correlation coefficient:', \n",
    "    yearly_merge['Funding received'].corr(yearly_merge['Funding requirements'], method='pearson')\n",
    ")"
   ]
  },
  {
   "cell_type": "markdown",
   "id": "ca7ff96c",
   "metadata": {},
   "source": [
    "### Analyze: \n",
    "\n",
    "The scatter plot reveals a strong linear relationship between funding requirements and funding received across years. As funding needs increase, the received funding tends to rise proportionally. This is supported by a Pearson correlation coefficient of approximately 0.911078, indicating a very strong positive correlation. Therefore, we can conclude that there is a consistently strong relationship between the level of funding requirements and the funding provided over time.\n",
    "\n",
    "### Note!!!  -  However, this relationship analysis is biased because of the lack of received funding data from 2022 to 2024, which causes data anomalies and thus results in biased outcomes.\n"
   ]
  },
  {
   "cell_type": "markdown",
   "id": "c8bcfab2",
   "metadata": {},
   "source": [
    "<hr>"
   ]
  },
  {
   "cell_type": "markdown",
   "id": "c9878a30",
   "metadata": {},
   "source": [
    "### Univariate Analysis\n",
    "\n",
    "Question: How have global humanitarian needs Funding Requirements and Funding Received evolved from 2010 to 2024? "
   ]
  },
  {
   "cell_type": "code",
   "execution_count": 52,
   "id": "37c34d2e",
   "metadata": {},
   "outputs": [],
   "source": [
    "df = pd.read_csv(\"../data/2010-2024 Humanitarian Needs and Funding - Raw Data.csv\")"
   ]
  },
  {
   "cell_type": "markdown",
   "id": "de19686f",
   "metadata": {},
   "source": [
    "Covert \"Value\" column from string to numeric data, to ensure \"Value\" column only contains numeric data."
   ]
  },
  {
   "cell_type": "code",
   "execution_count": 53,
   "id": "755de05f",
   "metadata": {},
   "outputs": [],
   "source": [
    "df['Value'] = df['Value'].replace(',', '', regex=True)\n",
    "df['Value'] = pd.to_numeric(df['Value'], errors='coerce')"
   ]
  },
  {
   "cell_type": "markdown",
   "id": "9d829f82",
   "metadata": {},
   "source": [
    "Filter Metric in Funding received and Funding requirements Since we only interest both Funding received and Funding requirements Metric."
   ]
  },
  {
   "cell_type": "code",
   "execution_count": 54,
   "id": "f1b56400",
   "metadata": {},
   "outputs": [],
   "source": [
    "df_filtered = df[df['Metric'].isin(['Funding received', 'Funding requirements'])]"
   ]
  },
  {
   "cell_type": "markdown",
   "id": "9bcc24e9",
   "metadata": {},
   "source": [
    "Group and sum up the value of Funding received and Funding requirements value by years"
   ]
  },
  {
   "cell_type": "code",
   "execution_count": 55,
   "id": "c10b99e0",
   "metadata": {},
   "outputs": [
    {
     "data": {
      "text/html": [
       "<div>\n",
       "<style scoped>\n",
       "    .dataframe tbody tr th:only-of-type {\n",
       "        vertical-align: middle;\n",
       "    }\n",
       "\n",
       "    .dataframe tbody tr th {\n",
       "        vertical-align: top;\n",
       "    }\n",
       "\n",
       "    .dataframe thead th {\n",
       "        text-align: right;\n",
       "    }\n",
       "</style>\n",
       "<table border=\"1\" class=\"dataframe\">\n",
       "  <thead>\n",
       "    <tr style=\"text-align: right;\">\n",
       "      <th></th>\n",
       "      <th>Year</th>\n",
       "      <th>Metric</th>\n",
       "      <th>Value</th>\n",
       "    </tr>\n",
       "  </thead>\n",
       "  <tbody>\n",
       "    <tr>\n",
       "      <th>0</th>\n",
       "      <td>2010</td>\n",
       "      <td>Funding received</td>\n",
       "      <td>5085448219</td>\n",
       "    </tr>\n",
       "    <tr>\n",
       "      <th>1</th>\n",
       "      <td>2010</td>\n",
       "      <td>Funding requirements</td>\n",
       "      <td>9607304247</td>\n",
       "    </tr>\n",
       "    <tr>\n",
       "      <th>2</th>\n",
       "      <td>2011</td>\n",
       "      <td>Funding received</td>\n",
       "      <td>1443996575</td>\n",
       "    </tr>\n",
       "    <tr>\n",
       "      <th>3</th>\n",
       "      <td>2011</td>\n",
       "      <td>Funding requirements</td>\n",
       "      <td>4893040499</td>\n",
       "    </tr>\n",
       "    <tr>\n",
       "      <th>4</th>\n",
       "      <td>2012</td>\n",
       "      <td>Funding received</td>\n",
       "      <td>4424167634</td>\n",
       "    </tr>\n",
       "    <tr>\n",
       "      <th>5</th>\n",
       "      <td>2012</td>\n",
       "      <td>Funding requirements</td>\n",
       "      <td>11263027389</td>\n",
       "    </tr>\n",
       "    <tr>\n",
       "      <th>6</th>\n",
       "      <td>2013</td>\n",
       "      <td>Funding received</td>\n",
       "      <td>4712463654</td>\n",
       "    </tr>\n",
       "    <tr>\n",
       "      <th>7</th>\n",
       "      <td>2013</td>\n",
       "      <td>Funding requirements</td>\n",
       "      <td>10348530114</td>\n",
       "    </tr>\n",
       "    <tr>\n",
       "      <th>8</th>\n",
       "      <td>2014</td>\n",
       "      <td>Funding received</td>\n",
       "      <td>3878980348</td>\n",
       "    </tr>\n",
       "    <tr>\n",
       "      <th>9</th>\n",
       "      <td>2014</td>\n",
       "      <td>Funding requirements</td>\n",
       "      <td>9923708780</td>\n",
       "    </tr>\n",
       "    <tr>\n",
       "      <th>10</th>\n",
       "      <td>2015</td>\n",
       "      <td>Funding received</td>\n",
       "      <td>8550240023</td>\n",
       "    </tr>\n",
       "    <tr>\n",
       "      <th>11</th>\n",
       "      <td>2015</td>\n",
       "      <td>Funding requirements</td>\n",
       "      <td>14584807503</td>\n",
       "    </tr>\n",
       "    <tr>\n",
       "      <th>12</th>\n",
       "      <td>2016</td>\n",
       "      <td>Funding received</td>\n",
       "      <td>5678913327</td>\n",
       "    </tr>\n",
       "    <tr>\n",
       "      <th>13</th>\n",
       "      <td>2016</td>\n",
       "      <td>Funding requirements</td>\n",
       "      <td>10327887945</td>\n",
       "    </tr>\n",
       "    <tr>\n",
       "      <th>14</th>\n",
       "      <td>2017</td>\n",
       "      <td>Funding received</td>\n",
       "      <td>9111000599</td>\n",
       "    </tr>\n",
       "    <tr>\n",
       "      <th>15</th>\n",
       "      <td>2017</td>\n",
       "      <td>Funding requirements</td>\n",
       "      <td>19980547400</td>\n",
       "    </tr>\n",
       "    <tr>\n",
       "      <th>16</th>\n",
       "      <td>2018</td>\n",
       "      <td>Funding received</td>\n",
       "      <td>21922679445</td>\n",
       "    </tr>\n",
       "    <tr>\n",
       "      <th>17</th>\n",
       "      <td>2018</td>\n",
       "      <td>Funding requirements</td>\n",
       "      <td>44655342517</td>\n",
       "    </tr>\n",
       "    <tr>\n",
       "      <th>18</th>\n",
       "      <td>2019</td>\n",
       "      <td>Funding received</td>\n",
       "      <td>25355421122</td>\n",
       "    </tr>\n",
       "    <tr>\n",
       "      <th>19</th>\n",
       "      <td>2019</td>\n",
       "      <td>Funding requirements</td>\n",
       "      <td>57310206372</td>\n",
       "    </tr>\n",
       "    <tr>\n",
       "      <th>20</th>\n",
       "      <td>2020</td>\n",
       "      <td>Funding received</td>\n",
       "      <td>11100838755</td>\n",
       "    </tr>\n",
       "    <tr>\n",
       "      <th>21</th>\n",
       "      <td>2020</td>\n",
       "      <td>Funding requirements</td>\n",
       "      <td>19307915600</td>\n",
       "    </tr>\n",
       "    <tr>\n",
       "      <th>22</th>\n",
       "      <td>2021</td>\n",
       "      <td>Funding received</td>\n",
       "      <td>3722500000</td>\n",
       "    </tr>\n",
       "    <tr>\n",
       "      <th>23</th>\n",
       "      <td>2021</td>\n",
       "      <td>Funding requirements</td>\n",
       "      <td>29486165470</td>\n",
       "    </tr>\n",
       "    <tr>\n",
       "      <th>24</th>\n",
       "      <td>2022</td>\n",
       "      <td>Funding requirements</td>\n",
       "      <td>52000597947</td>\n",
       "    </tr>\n",
       "    <tr>\n",
       "      <th>25</th>\n",
       "      <td>2023</td>\n",
       "      <td>Funding requirements</td>\n",
       "      <td>56090231506</td>\n",
       "    </tr>\n",
       "    <tr>\n",
       "      <th>26</th>\n",
       "      <td>2024</td>\n",
       "      <td>Funding requirements</td>\n",
       "      <td>46104045635</td>\n",
       "    </tr>\n",
       "  </tbody>\n",
       "</table>\n",
       "</div>"
      ],
      "text/plain": [
       "    Year                Metric        Value\n",
       "0   2010      Funding received   5085448219\n",
       "1   2010  Funding requirements   9607304247\n",
       "2   2011      Funding received   1443996575\n",
       "3   2011  Funding requirements   4893040499\n",
       "4   2012      Funding received   4424167634\n",
       "5   2012  Funding requirements  11263027389\n",
       "6   2013      Funding received   4712463654\n",
       "7   2013  Funding requirements  10348530114\n",
       "8   2014      Funding received   3878980348\n",
       "9   2014  Funding requirements   9923708780\n",
       "10  2015      Funding received   8550240023\n",
       "11  2015  Funding requirements  14584807503\n",
       "12  2016      Funding received   5678913327\n",
       "13  2016  Funding requirements  10327887945\n",
       "14  2017      Funding received   9111000599\n",
       "15  2017  Funding requirements  19980547400\n",
       "16  2018      Funding received  21922679445\n",
       "17  2018  Funding requirements  44655342517\n",
       "18  2019      Funding received  25355421122\n",
       "19  2019  Funding requirements  57310206372\n",
       "20  2020      Funding received  11100838755\n",
       "21  2020  Funding requirements  19307915600\n",
       "22  2021      Funding received   3722500000\n",
       "23  2021  Funding requirements  29486165470\n",
       "24  2022  Funding requirements  52000597947\n",
       "25  2023  Funding requirements  56090231506\n",
       "26  2024  Funding requirements  46104045635"
      ]
     },
     "execution_count": 55,
     "metadata": {},
     "output_type": "execute_result"
    }
   ],
   "source": [
    "yearly_funding = df_filtered.groupby(['Year', 'Metric'])['Value'].sum().reset_index()\n",
    "yearly_funding"
   ]
  },
  {
   "cell_type": "markdown",
   "id": "45a43edd",
   "metadata": {},
   "source": [
    "Generate bar graph with Funding received and Funding requirements"
   ]
  },
  {
   "cell_type": "code",
   "execution_count": 56,
   "id": "c7902726",
   "metadata": {},
   "outputs": [
    {
     "data": {
      "image/png": "[encoded data removed]",
      "text/plain": [
       "<Figure size 1600x800 with 1 Axes>"
      ]
     },
     "metadata": {},
     "output_type": "display_data"
    }
   ],
   "source": [
    "plt.figure(figsize=(16, 8))\n",
    "sns.barplot(data=yearly_funding, x='Year', y='Value', hue='Metric')\n",
    "plt.title('Global Humanitarian Requirements and Received (2010–2024)', fontsize=10)\n",
    "plt.xlabel('Year')\n",
    "plt.ylabel('Value USD')\n",
    "plt.legend(title='Metric', loc='upper left')\n",
    "plt.xticks(rotation=45)\n",
    "plt.tight_layout()\n",
    "plt.show()\n",
    "\n",
    "# yearly_funding"
   ]
  },
  {
   "cell_type": "markdown",
   "id": "4af46f05",
   "metadata": {},
   "source": [
    "### Analyze: \n",
    "\n",
    "Based on the histogram, we can see that global humanitarian funding requirements have been increasing over the years, especially from 2021 to 2024. The upward trend was most notable between 2017 and 2019, reaching the maximum value during this period. This may reflect the growing severity of global humanitarian crises.\n",
    "\n",
    "Global humanitarian funding received has also been increasing, reaching the maximum value in 2019. However, the gap between requirements and received funding has been steadily widening. For example, in 2018, the gap was around 50%, whereas by 2019, it had exceeded 50%."
   ]
  }
 ],
 "metadata": {
  "kernelspec": {
   "display_name": "ds",
   "language": "python",
   "name": "python3"
  },
  "language_info": {
   "codemirror_mode": {
    "name": "ipython",
    "version": 3
   },
   "file_extension": ".py",
   "mimetype": "text/x-python",
   "name": "python",
   "nbconvert_exporter": "python",
   "pygments_lexer": "ipython3",
   "version": "3.12.9"
  }
 },
 "nbformat": 4,
 "nbformat_minor": 5
}
